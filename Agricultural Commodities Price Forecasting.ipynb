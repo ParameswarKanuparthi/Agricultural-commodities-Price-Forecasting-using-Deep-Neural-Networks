{
 "cells": [
  {
   "cell_type": "code",
   "execution_count": 1,
   "metadata": {},
   "outputs": [],
   "source": [
    "from pandas import read_csv \n",
    "import numpy as np"
   ]
  },
  {
   "cell_type": "code",
   "execution_count": 2,
   "metadata": {},
   "outputs": [
    {
     "data": {
      "text/html": [
       "<div>\n",
       "<style scoped>\n",
       "    .dataframe tbody tr th:only-of-type {\n",
       "        vertical-align: middle;\n",
       "    }\n",
       "\n",
       "    .dataframe tbody tr th {\n",
       "        vertical-align: top;\n",
       "    }\n",
       "\n",
       "    .dataframe thead th {\n",
       "        text-align: right;\n",
       "    }\n",
       "</style>\n",
       "<table border=\"1\" class=\"dataframe\">\n",
       "  <thead>\n",
       "    <tr style=\"text-align: right;\">\n",
       "      <th></th>\n",
       "      <th>head</th>\n",
       "    </tr>\n",
       "  </thead>\n",
       "  <tbody>\n",
       "    <tr>\n",
       "      <th>0</th>\n",
       "      <td>550</td>\n",
       "    </tr>\n",
       "    <tr>\n",
       "      <th>1</th>\n",
       "      <td>450</td>\n",
       "    </tr>\n",
       "    <tr>\n",
       "      <th>2</th>\n",
       "      <td>550</td>\n",
       "    </tr>\n",
       "    <tr>\n",
       "      <th>3</th>\n",
       "      <td>550</td>\n",
       "    </tr>\n",
       "    <tr>\n",
       "      <th>4</th>\n",
       "      <td>450</td>\n",
       "    </tr>\n",
       "  </tbody>\n",
       "</table>\n",
       "</div>"
      ],
      "text/plain": [
       "   head\n",
       "0   550\n",
       "1   450\n",
       "2   550\n",
       "3   550\n",
       "4   450"
      ]
     },
     "execution_count": 2,
     "metadata": {},
     "output_type": "execute_result"
    }
   ],
   "source": [
    "df = read_csv('agricultural_dataset.csv')\n",
    "df.head()"
   ]
  },
  {
   "cell_type": "code",
   "execution_count": 3,
   "metadata": {},
   "outputs": [
    {
     "data": {
      "text/plain": [
       "(319, 1)"
      ]
     },
     "execution_count": 3,
     "metadata": {},
     "output_type": "execute_result"
    }
   ],
   "source": [
    "values = df.values.astype('float32')\n",
    "values.shape"
   ]
  },
  {
   "cell_type": "code",
   "execution_count": 4,
   "metadata": {},
   "outputs": [],
   "source": [
    "train_size = int((values.shape[0] * 0.67))\n",
    "test_size = values.shape[0]  - train_size\n",
    "train = values[0:train_size]\n",
    "test = values[train_size:]"
   ]
  },
  {
   "cell_type": "code",
   "execution_count": 5,
   "metadata": {},
   "outputs": [],
   "source": [
    "from sklearn.preprocessing import MinMaxScaler\n",
    "scaler = MinMaxScaler(feature_range =(0,1))\n",
    "train = scaler.fit_transform(train)\n",
    "test = scaler.transform(test)"
   ]
  },
  {
   "cell_type": "code",
   "execution_count": 6,
   "metadata": {},
   "outputs": [
    {
     "data": {
      "text/plain": [
       "array([1000.     , 1000.     , 1000.     , 1000.     , 1000.     ,\n",
       "       1000.     , 1000.     , 1000.     , 1400.     , 1000.     ,\n",
       "       1200.     , 1500.     , 1000.     , 1400.     , 1000.     ,\n",
       "       1400.     , 1200.     , 1400.     , 1400.     , 1500.     ,\n",
       "       1500.     , 1500.     , 1500.     , 1500.     , 1500.     ,\n",
       "       1500.     , 1500.     , 1500.     , 1400.     , 1200.     ,\n",
       "       1500.     ,  850.     , 1000.     , 1000.     ,  800.     ,\n",
       "       3500.     , 1200.     ,  800.     ,  800.     ,  500.     ,\n",
       "       1100.     , 3200.     , 3000.     , 3000.     , 3000.     ,\n",
       "       3000.     , 3000.     , 3000.     , 3500.     , 1600.     ,\n",
       "       1200.     ,  950.     ,  940.     ,  940.     ,  940.     ,\n",
       "        930.00006,  930.00006,  850.     ,  800.     ,  800.     ,\n",
       "        800.     ,  800.     ,  800.     ,  800.     ,  800.     ,\n",
       "        800.     ,  800.     ,  800.     ,  800.     ,  800.     ,\n",
       "        800.     ,  600.     ,  600.     ,  600.     ,  500.     ,\n",
       "        700.     ,  700.     ,  700.     ,  700.     ,  700.     ,\n",
       "        700.     ,  800.     ,  900.     ,  900.     , 1020.     ,\n",
       "       1020.     , 1020.     , 1020.     , 1030.     , 1030.     ,\n",
       "       1030.     , 1030.     , 1030.     , 1030.     , 1250.     ,\n",
       "        950.     , 1100.     , 1050.     , 1050.     , 1060.     ,\n",
       "       1060.     , 1100.     , 1100.     , 1300.     , 1300.     ,\n",
       "       1300.     ], dtype=float32)"
      ]
     },
     "execution_count": 6,
     "metadata": {},
     "output_type": "execute_result"
    }
   ],
   "source": [
    "scaler.inverse_transform(test).ravel()"
   ]
  },
  {
   "cell_type": "code",
   "execution_count": 7,
   "metadata": {},
   "outputs": [],
   "source": [
    "def create_dataset(data, k):\n",
    "    dataX, dataY = [],[]\n",
    "    for i in range(data.shape[0] - k):\n",
    "        x = data[i:i + k, 0]\n",
    "        y = data[i + k, 0]\n",
    "        dataX.append(x)\n",
    "        dataY.append(y)\n",
    "    return np.array(dataX), np.array(dataY)"
   ]
  },
  {
   "cell_type": "code",
   "execution_count": 8,
   "metadata": {},
   "outputs": [],
   "source": [
    "look_back = 30\n",
    "trainX, trainY = create_dataset(train, look_back)\n",
    "testX, testY = create_dataset(test, look_back)"
   ]
  },
  {
   "cell_type": "code",
   "execution_count": 9,
   "metadata": {},
   "outputs": [
    {
     "data": {
      "text/plain": [
       "(183, 30, 1)"
      ]
     },
     "execution_count": 9,
     "metadata": {},
     "output_type": "execute_result"
    }
   ],
   "source": [
    "trainX = np.reshape(trainX, (trainX.shape[0], trainX.shape[1], 1))\n",
    "testX = np.reshape(testX, (testX.shape[0], testX.shape[1], 1))\n",
    "trainX.shape"
   ]
  },
  {
   "cell_type": "code",
   "execution_count": 10,
   "metadata": {},
   "outputs": [
    {
     "name": "stderr",
     "output_type": "stream",
     "text": [
      "Using TensorFlow backend.\n"
     ]
    }
   ],
   "source": [
    "from keras.models import Sequential \n",
    "from keras.layers import LSTM, Dense"
   ]
  },
  {
   "cell_type": "code",
   "execution_count": 11,
   "metadata": {},
   "outputs": [
    {
     "name": "stdout",
     "output_type": "stream",
     "text": [
      "Epoch 1/200\n",
      " - 9s - loss: 0.0199\n",
      "Epoch 2/200\n",
      " - 7s - loss: 0.0122\n",
      "Epoch 3/200\n",
      " - 7s - loss: 0.0101\n",
      "Epoch 4/200\n",
      " - 7s - loss: 0.0098\n",
      "Epoch 5/200\n",
      " - 7s - loss: 0.0085\n",
      "Epoch 6/200\n",
      " - 7s - loss: 0.0095\n",
      "Epoch 7/200\n",
      " - 7s - loss: 0.0087\n",
      "Epoch 8/200\n",
      " - 7s - loss: 0.0084\n",
      "Epoch 9/200\n",
      " - 8s - loss: 0.0064\n",
      "Epoch 10/200\n",
      " - 7s - loss: 0.0072\n",
      "Epoch 11/200\n",
      " - 8s - loss: 0.0066\n",
      "Epoch 12/200\n",
      " - 8s - loss: 0.0071\n",
      "Epoch 13/200\n",
      " - 8s - loss: 0.0070\n",
      "Epoch 14/200\n",
      " - 8s - loss: 0.0073\n",
      "Epoch 15/200\n",
      " - 8s - loss: 0.0072\n",
      "Epoch 16/200\n",
      " - 8s - loss: 0.0068\n",
      "Epoch 17/200\n",
      " - 8s - loss: 0.0067\n",
      "Epoch 18/200\n",
      " - 8s - loss: 0.0065\n",
      "Epoch 19/200\n",
      " - 8s - loss: 0.0069\n",
      "Epoch 20/200\n",
      " - 8s - loss: 0.0061\n",
      "Epoch 21/200\n",
      " - 8s - loss: 0.0062\n",
      "Epoch 22/200\n",
      " - 8s - loss: 0.0063\n",
      "Epoch 23/200\n",
      " - 8s - loss: 0.0061\n",
      "Epoch 24/200\n",
      " - 8s - loss: 0.0064\n",
      "Epoch 25/200\n",
      " - 8s - loss: 0.0060\n",
      "Epoch 26/200\n",
      " - 8s - loss: 0.0062\n",
      "Epoch 27/200\n",
      " - 8s - loss: 0.0064\n",
      "Epoch 28/200\n",
      " - 8s - loss: 0.0063\n",
      "Epoch 29/200\n",
      " - 8s - loss: 0.0061\n",
      "Epoch 30/200\n",
      " - 7s - loss: 0.0064\n",
      "Epoch 31/200\n",
      " - 8s - loss: 0.0063\n",
      "Epoch 32/200\n",
      " - 8s - loss: 0.0060\n",
      "Epoch 33/200\n",
      " - 8s - loss: 0.0061\n",
      "Epoch 34/200\n",
      " - 8s - loss: 0.0060\n",
      "Epoch 35/200\n",
      " - 8s - loss: 0.0060\n",
      "Epoch 36/200\n",
      " - 8s - loss: 0.0056\n",
      "Epoch 37/200\n",
      " - 7s - loss: 0.0058\n",
      "Epoch 38/200\n",
      " - 7s - loss: 0.0055\n",
      "Epoch 39/200\n",
      " - 8s - loss: 0.0055\n",
      "Epoch 40/200\n",
      " - 7s - loss: 0.0055\n",
      "Epoch 41/200\n",
      " - 8s - loss: 0.0055\n",
      "Epoch 42/200\n",
      " - 8s - loss: 0.0056\n",
      "Epoch 43/200\n",
      " - 7s - loss: 0.0059\n",
      "Epoch 44/200\n",
      " - 8s - loss: 0.0053\n",
      "Epoch 45/200\n",
      " - 7s - loss: 0.0051\n",
      "Epoch 46/200\n",
      " - 8s - loss: 0.0052\n",
      "Epoch 47/200\n",
      " - 7s - loss: 0.0054\n",
      "Epoch 48/200\n",
      " - 7s - loss: 0.0051\n",
      "Epoch 49/200\n",
      " - 7s - loss: 0.0050\n",
      "Epoch 50/200\n",
      " - 8s - loss: 0.0050\n",
      "Epoch 51/200\n",
      " - 7s - loss: 0.0053\n",
      "Epoch 52/200\n",
      " - 7s - loss: 0.0053\n",
      "Epoch 53/200\n",
      " - 7s - loss: 0.0049\n",
      "Epoch 54/200\n",
      " - 7s - loss: 0.0046\n",
      "Epoch 55/200\n",
      " - 8s - loss: 0.0049\n",
      "Epoch 56/200\n",
      " - 7s - loss: 0.0048\n",
      "Epoch 57/200\n",
      " - 7s - loss: 0.0048\n",
      "Epoch 58/200\n",
      " - 7s - loss: 0.0045\n",
      "Epoch 59/200\n",
      " - 8s - loss: 0.0049\n",
      "Epoch 60/200\n",
      " - 8s - loss: 0.0051\n",
      "Epoch 61/200\n",
      " - 7s - loss: 0.0043\n",
      "Epoch 62/200\n",
      " - 7s - loss: 0.0047\n",
      "Epoch 63/200\n",
      " - 8s - loss: 0.0043\n",
      "Epoch 64/200\n",
      " - 8s - loss: 0.0042\n",
      "Epoch 65/200\n",
      " - 8s - loss: 0.0040\n",
      "Epoch 66/200\n",
      " - 8s - loss: 0.0040\n",
      "Epoch 67/200\n",
      " - 7s - loss: 0.0040\n",
      "Epoch 68/200\n",
      " - 7s - loss: 0.0039\n",
      "Epoch 69/200\n",
      " - 8s - loss: 0.0042\n",
      "Epoch 70/200\n",
      " - 8s - loss: 0.0043\n",
      "Epoch 71/200\n",
      " - 7s - loss: 0.0036\n",
      "Epoch 72/200\n",
      " - 8s - loss: 0.0043\n",
      "Epoch 73/200\n",
      " - 7s - loss: 0.0037\n",
      "Epoch 74/200\n",
      " - 7s - loss: 0.0037\n",
      "Epoch 75/200\n",
      " - 8s - loss: 0.0035\n",
      "Epoch 76/200\n",
      " - 7s - loss: 0.0036\n",
      "Epoch 77/200\n",
      " - 7s - loss: 0.0037\n",
      "Epoch 78/200\n",
      " - 7s - loss: 0.0036\n",
      "Epoch 79/200\n",
      " - 7s - loss: 0.0037\n",
      "Epoch 80/200\n",
      " - 7s - loss: 0.0038\n",
      "Epoch 81/200\n",
      " - 7s - loss: 0.0033\n",
      "Epoch 82/200\n",
      " - 7s - loss: 0.0037\n",
      "Epoch 83/200\n",
      " - 7s - loss: 0.0036\n",
      "Epoch 84/200\n",
      " - 7s - loss: 0.0037\n",
      "Epoch 85/200\n",
      " - 7s - loss: 0.0034\n",
      "Epoch 86/200\n",
      " - 8s - loss: 0.0034\n",
      "Epoch 87/200\n",
      " - 8s - loss: 0.0032\n",
      "Epoch 88/200\n",
      " - 8s - loss: 0.0031\n",
      "Epoch 89/200\n",
      " - 8s - loss: 0.0035\n",
      "Epoch 90/200\n",
      " - 7s - loss: 0.0034\n",
      "Epoch 91/200\n",
      " - 8s - loss: 0.0033\n",
      "Epoch 92/200\n",
      " - 8s - loss: 0.0032\n",
      "Epoch 93/200\n",
      " - 8s - loss: 0.0032\n",
      "Epoch 94/200\n",
      " - 7s - loss: 0.0035\n",
      "Epoch 95/200\n",
      " - 7s - loss: 0.0032\n",
      "Epoch 96/200\n",
      " - 7s - loss: 0.0032\n",
      "Epoch 97/200\n",
      " - 8s - loss: 0.0032\n",
      "Epoch 98/200\n",
      " - 7s - loss: 0.0032\n",
      "Epoch 99/200\n",
      " - 8s - loss: 0.0031\n",
      "Epoch 100/200\n",
      " - 7s - loss: 0.0033\n",
      "Epoch 101/200\n",
      " - 8s - loss: 0.0031\n",
      "Epoch 102/200\n",
      " - 7s - loss: 0.0032\n",
      "Epoch 103/200\n",
      " - 7s - loss: 0.0030\n",
      "Epoch 104/200\n",
      " - 7s - loss: 0.0031\n",
      "Epoch 105/200\n",
      " - 8s - loss: 0.0028\n",
      "Epoch 106/200\n",
      " - 8s - loss: 0.0029\n",
      "Epoch 107/200\n",
      " - 7s - loss: 0.0032\n",
      "Epoch 108/200\n",
      " - 8s - loss: 0.0027\n",
      "Epoch 109/200\n",
      " - 7s - loss: 0.0030\n",
      "Epoch 110/200\n",
      " - 8s - loss: 0.0028\n",
      "Epoch 111/200\n",
      " - 5s - loss: 0.0028\n",
      "Epoch 112/200\n",
      " - 5s - loss: 0.0029\n",
      "Epoch 113/200\n",
      " - 5s - loss: 0.0028\n",
      "Epoch 114/200\n",
      " - 5s - loss: 0.0029\n",
      "Epoch 115/200\n",
      " - 7s - loss: 0.0025\n",
      "Epoch 116/200\n",
      " - 8s - loss: 0.0033\n",
      "Epoch 117/200\n",
      " - 7s - loss: 0.0025\n",
      "Epoch 118/200\n",
      " - 7s - loss: 0.0024\n",
      "Epoch 119/200\n",
      " - 7s - loss: 0.0027\n",
      "Epoch 120/200\n",
      " - 8s - loss: 0.0028\n",
      "Epoch 121/200\n",
      " - 7s - loss: 0.0025\n",
      "Epoch 122/200\n",
      " - 7s - loss: 0.0025\n",
      "Epoch 123/200\n",
      " - 7s - loss: 0.0023\n",
      "Epoch 124/200\n",
      " - 7s - loss: 0.0024\n",
      "Epoch 125/200\n",
      " - 7s - loss: 0.0024\n",
      "Epoch 126/200\n",
      " - 7s - loss: 0.0025\n",
      "Epoch 127/200\n",
      " - 7s - loss: 0.0024\n",
      "Epoch 128/200\n",
      " - 7s - loss: 0.0024\n",
      "Epoch 129/200\n",
      " - 7s - loss: 0.0034\n",
      "Epoch 130/200\n",
      " - 7s - loss: 0.0029\n",
      "Epoch 131/200\n",
      " - 7s - loss: 0.0032\n",
      "Epoch 132/200\n",
      " - 7s - loss: 0.0026\n",
      "Epoch 133/200\n",
      " - 7s - loss: 0.0027\n",
      "Epoch 134/200\n",
      " - 7s - loss: 0.0024\n",
      "Epoch 135/200\n",
      " - 7s - loss: 0.0023\n",
      "Epoch 136/200\n",
      " - 8s - loss: 0.0026\n",
      "Epoch 137/200\n",
      " - 7s - loss: 0.0024\n",
      "Epoch 138/200\n",
      " - 8s - loss: 0.0021\n",
      "Epoch 139/200\n",
      " - 7s - loss: 0.0024\n",
      "Epoch 140/200\n",
      " - 7s - loss: 0.0022\n",
      "Epoch 141/200\n",
      " - 7s - loss: 0.0020\n",
      "Epoch 142/200\n",
      " - 7s - loss: 0.0023\n",
      "Epoch 143/200\n",
      " - 8s - loss: 0.0018\n",
      "Epoch 144/200\n",
      " - 8s - loss: 0.0019\n",
      "Epoch 145/200\n",
      " - 7s - loss: 0.0023\n",
      "Epoch 146/200\n",
      " - 7s - loss: 0.0021\n",
      "Epoch 147/200\n",
      " - 7s - loss: 0.0022\n",
      "Epoch 148/200\n",
      " - 7s - loss: 0.0020\n",
      "Epoch 149/200\n",
      " - 8s - loss: 0.0017\n",
      "Epoch 150/200\n",
      " - 8s - loss: 0.0018\n",
      "Epoch 151/200\n",
      " - 7s - loss: 0.0018\n",
      "Epoch 152/200\n",
      " - 6s - loss: 0.0035\n",
      "Epoch 153/200\n",
      " - 6s - loss: 0.0023\n",
      "Epoch 154/200\n",
      " - 5s - loss: 0.0022\n",
      "Epoch 155/200\n",
      " - 5s - loss: 0.0020\n",
      "Epoch 156/200\n",
      " - 8s - loss: 0.0019\n",
      "Epoch 157/200\n",
      " - 5s - loss: 0.0022\n",
      "Epoch 158/200\n",
      " - 6s - loss: 0.0017\n",
      "Epoch 159/200\n",
      " - 7s - loss: 0.0017\n",
      "Epoch 160/200\n",
      " - 8s - loss: 0.0018\n",
      "Epoch 161/200\n",
      " - 7s - loss: 0.0019\n",
      "Epoch 162/200\n",
      " - 5s - loss: 0.0020\n",
      "Epoch 163/200\n",
      " - 5s - loss: 0.0018\n",
      "Epoch 164/200\n",
      " - 7s - loss: 0.0013\n",
      "Epoch 165/200\n",
      " - 6s - loss: 0.0015\n",
      "Epoch 166/200\n",
      " - 6s - loss: 0.0021\n",
      "Epoch 167/200\n",
      " - 6s - loss: 0.0016\n",
      "Epoch 168/200\n",
      " - 6s - loss: 0.0016\n",
      "Epoch 169/200\n",
      " - 5s - loss: 0.0016\n",
      "Epoch 170/200\n",
      " - 5s - loss: 0.0014\n",
      "Epoch 171/200\n",
      " - 6s - loss: 0.0017\n",
      "Epoch 172/200\n",
      " - 6s - loss: 0.0015\n",
      "Epoch 173/200\n",
      " - 7s - loss: 0.0014\n",
      "Epoch 174/200\n",
      " - 7s - loss: 0.0012\n",
      "Epoch 175/200\n",
      " - 7s - loss: 0.0014\n",
      "Epoch 176/200\n",
      " - 7s - loss: 0.0016\n",
      "Epoch 177/200\n",
      " - 7s - loss: 0.0016\n",
      "Epoch 178/200\n",
      " - 7s - loss: 0.0019\n",
      "Epoch 179/200\n",
      " - 7s - loss: 0.0020\n",
      "Epoch 180/200\n",
      " - 7s - loss: 0.0014\n",
      "Epoch 181/200\n",
      " - 7s - loss: 0.0017\n",
      "Epoch 182/200\n",
      " - 6s - loss: 0.0021\n",
      "Epoch 183/200\n",
      " - 6s - loss: 0.0014\n",
      "Epoch 184/200\n",
      " - 7s - loss: 0.0014\n",
      "Epoch 185/200\n",
      " - 7s - loss: 0.0014\n",
      "Epoch 186/200\n",
      " - 7s - loss: 0.0019\n",
      "Epoch 187/200\n",
      " - 7s - loss: 0.0014\n",
      "Epoch 188/200\n",
      " - 6s - loss: 0.0011\n",
      "Epoch 189/200\n",
      " - 7s - loss: 0.0015\n",
      "Epoch 190/200\n",
      " - 5s - loss: 0.0013\n",
      "Epoch 191/200\n",
      " - 4s - loss: 0.0013\n",
      "Epoch 192/200\n",
      " - 4s - loss: 0.0011\n",
      "Epoch 193/200\n",
      " - 6s - loss: 0.0012\n",
      "Epoch 194/200\n",
      " - 6s - loss: 0.0012\n",
      "Epoch 195/200\n",
      " - 7s - loss: 0.0015\n",
      "Epoch 196/200\n",
      " - 7s - loss: 0.0011\n",
      "Epoch 197/200\n",
      " - 7s - loss: 0.0017\n",
      "Epoch 198/200\n",
      " - 7s - loss: 0.0014\n",
      "Epoch 199/200\n",
      " - 7s - loss: 0.0010\n",
      "Epoch 200/200\n",
      " - 7s - loss: 0.0012\n"
     ]
    }
   ],
   "source": [
    "from keras import Sequential\n",
    "NUM_NEURONS_FirstLayer = 100\n",
    "NUM_NEURONS_SecondLayer = 50\n",
    "EPOCHS = 200\n",
    "model = Sequential()\n",
    "model.add(LSTM(NUM_NEURONS_FirstLayer,input_shape=(look_back,1), return_sequences=True))\n",
    "model.add(LSTM(NUM_NEURONS_SecondLayer,input_shape=(NUM_NEURONS_FirstLayer,1)))\n",
    "model.add(Dense(1))\n",
    "model.compile(loss='mean_squared_error', optimizer='adam')\n",
    "history = model.fit(trainX,trainY,epochs=EPOCHS,shuffle=True,batch_size=1, verbose=2)\n",
    " \n"
   ]
  },
  {
   "cell_type": "code",
   "execution_count": 12,
   "metadata": {},
   "outputs": [
    {
     "data": {
      "text/plain": [
       "['filename.pkl']"
      ]
     },
     "execution_count": 12,
     "metadata": {},
     "output_type": "execute_result"
    }
   ],
   "source": [
    "from sklearn.externals import joblib \n",
    "\n",
    "# Save the model as a pickle in a file \n",
    "joblib.dump(model, 'filename.pkl')"
   ]
  },
  {
   "cell_type": "code",
   "execution_count": 13,
   "metadata": {},
   "outputs": [
    {
     "data": {
      "text/plain": [
       "((76, 1), (76,))"
      ]
     },
     "execution_count": 13,
     "metadata": {},
     "output_type": "execute_result"
    }
   ],
   "source": [
    "testPredict = model.predict(testX)\n",
    "\n",
    "trainPredict = model.predict(trainX)\n",
    "trainPredict = scaler.inverse_transform(trainPredict).ravel()\n",
    "\n",
    "testTrue = scaler.inverse_transform([testY]).ravel()\n",
    "trainTrue = scaler.inverse_transform([trainY]).ravel()\n",
    "\n",
    "testPredict.shape, testTrue.shape"
   ]
  },
  {
   "cell_type": "code",
   "execution_count": 14,
   "metadata": {},
   "outputs": [
    {
     "data": {
      "text/plain": [
       "array([1697.9539 , 1078.2177 ,  684.93976,  982.5969 , 1010.36743,\n",
       "       1060.5648 , 1810.9913 ,  465.53073,  828.17786,  832.02057,\n",
       "        942.17053, 1154.7523 , 1709.8585 ,  299.6678 , 1508.3661 ,\n",
       "       1034.1758 ,  562.57983, 1923.388  ,  798.2546 ,  731.0684 ,\n",
       "       1589.5326 , 1587.9896 ,  710.092  , 1520.2108 ,  721.5253 ,\n",
       "       1055.6035 ,  973.6326 , 1008.64954,  993.7171 ,  909.35345,\n",
       "        859.9494 ,  832.60474,  808.2062 ,  791.45996,  817.36316,\n",
       "        910.98956,  932.23096,  871.9065 ,  860.48834,  816.3932 ,\n",
       "        805.8919 ,  798.79926,  791.6749 ,  728.79004,  906.39746,\n",
       "        710.20886,  762.2303 ,  775.4274 ,  722.9512 ,  717.20294,\n",
       "        687.93115,  733.3544 ,  757.1423 ,  842.5169 ,  861.009  ,\n",
       "       1050.5894 ,  973.52057,  959.8878 , 1012.3302 ,  985.1555 ,\n",
       "        974.25433, 1011.7085 , 1012.6541 , 1014.79144, 1025.816  ,\n",
       "       1224.8428 ,  713.2205 , 1234.8625 ,  974.4335 , 1099.6099 ,\n",
       "       1029.8335 , 1052.8885 , 1047.7135 , 1059.8151 , 1259.6299 ,\n",
       "        841.81805], dtype=float32)"
      ]
     },
     "execution_count": 14,
     "metadata": {},
     "output_type": "execute_result"
    }
   ],
   "source": [
    "scaler.inverse_transform(testPredict).ravel()"
   ]
  },
  {
   "cell_type": "code",
   "execution_count": 15,
   "metadata": {},
   "outputs": [],
   "source": [
    "from matplotlib import pyplot as plt"
   ]
  },
  {
   "cell_type": "code",
   "execution_count": 16,
   "metadata": {},
   "outputs": [
    {
     "data": {
      "image/png": "[encoded data removed]",
      "text/plain": [
       "<Figure size 432x288 with 1 Axes>"
      ]
     },
     "metadata": {
      "needs_background": "light"
     },
     "output_type": "display_data"
    }
   ],
   "source": [
    "plt.plot(trainTrue, c = 'g')\n",
    "plt.plot(trainPredict, c = 'b')\n",
    "plt.show()"
   ]
  },
  {
   "cell_type": "code",
   "execution_count": 31,
   "metadata": {},
   "outputs": [
    {
     "data": {
      "image/png": "[encoded data removed]",
      "text/plain": [
       "<Figure size 432x288 with 1 Axes>"
      ]
     },
     "metadata": {
      "needs_background": "light"
     },
     "output_type": "display_data"
    }
   ],
   "source": [
    "combinedPredicted = np.concatenate((trainPredict, testPredict))\n",
    "combinedTrue = np.concatenate((trainTrue, testTrue))\n",
    "plt.plot(combinedTrue, c = 'g')\n",
    "plt.plot(combinedPredicted, c = 'b')\n",
    "plt.show()"
   ]
  },
  {
   "cell_type": "code",
   "execution_count": 18,
   "metadata": {},
   "outputs": [
    {
     "data": {
      "text/plain": [
       "(76, 30, 1)"
      ]
     },
     "execution_count": 18,
     "metadata": {},
     "output_type": "execute_result"
    }
   ],
   "source": [
    "testX.shape"
   ]
  },
  {
   "cell_type": "code",
   "execution_count": 19,
   "metadata": {},
   "outputs": [
    {
     "data": {
      "text/plain": [
       "1.375"
      ]
     },
     "execution_count": 19,
     "metadata": {},
     "output_type": "execute_result"
    }
   ],
   "source": [
    "testY[0]"
   ]
  },
  {
   "cell_type": "code",
   "execution_count": 20,
   "metadata": {},
   "outputs": [],
   "source": [
    "testPredict = model.predict([[testX[0]]])"
   ]
  },
  {
   "cell_type": "code",
   "execution_count": 21,
   "metadata": {},
   "outputs": [
    {
     "data": {
      "text/plain": [
       "array([[1.6224422]], dtype=float32)"
      ]
     },
     "execution_count": 21,
     "metadata": {},
     "output_type": "execute_result"
    }
   ],
   "source": [
    "testPredict"
   ]
  },
  {
   "cell_type": "code",
   "execution_count": 22,
   "metadata": {},
   "outputs": [
    {
     "name": "stdout",
     "output_type": "stream",
     "text": [
      "Final rmse value is = 25.38795789463273\n"
     ]
    }
   ],
   "source": [
    "print(\"Final rmse value is =\",np.sqrt(np.mean((trainPredict-trainTrue)**2)))"
   ]
  },
  {
   "cell_type": "code",
   "execution_count": 23,
   "metadata": {},
   "outputs": [
    {
     "data": {
      "text/plain": [
       "array([[0.375     ],\n",
       "       [0.375     ],\n",
       "       [0.375     ],\n",
       "       [0.375     ],\n",
       "       [0.375     ],\n",
       "       [0.5       ],\n",
       "       [0.625     ],\n",
       "       [0.625     ],\n",
       "       [0.77499998],\n",
       "       [0.77499998],\n",
       "       [0.77499998],\n",
       "       [0.77499998],\n",
       "       [0.78750002],\n",
       "       [0.78750002],\n",
       "       [0.78750002],\n",
       "       [0.78750002],\n",
       "       [0.78750002],\n",
       "       [0.78750002],\n",
       "       [1.0625    ],\n",
       "       [0.6875    ],\n",
       "       [0.875     ],\n",
       "       [0.8125    ],\n",
       "       [0.8125    ],\n",
       "       [0.82499993],\n",
       "       [0.82499993],\n",
       "       [0.875     ],\n",
       "       [0.875     ],\n",
       "       [1.125     ],\n",
       "       [1.125     ],\n",
       "       [0.75      ]])"
      ]
     },
     "execution_count": 23,
     "metadata": {},
     "output_type": "execute_result"
    }
   ],
   "source": [
    "import numpy as np\n",
    "testx=np.append(testX[75][1:], [[0.75]],axis = 0) \n",
    "testx"
   ]
  },
  {
   "cell_type": "code",
   "execution_count": 24,
   "metadata": {},
   "outputs": [
    {
     "name": "stdout",
     "output_type": "stream",
     "text": [
      "[[0.375     ]\n",
      " [0.375     ]\n",
      " [0.375     ]\n",
      " [0.375     ]\n",
      " [0.375     ]\n",
      " [0.5       ]\n",
      " [0.625     ]\n",
      " [0.625     ]\n",
      " [0.77499998]\n",
      " [0.77499998]\n",
      " [0.77499998]\n",
      " [0.77499998]\n",
      " [0.78750002]\n",
      " [0.78750002]\n",
      " [0.78750002]\n",
      " [0.78750002]\n",
      " [0.78750002]\n",
      " [0.78750002]\n",
      " [1.0625    ]\n",
      " [0.6875    ]\n",
      " [0.875     ]\n",
      " [0.8125    ]\n",
      " [0.8125    ]\n",
      " [0.82499993]\n",
      " [0.82499993]\n",
      " [0.875     ]\n",
      " [0.875     ]\n",
      " [1.125     ]\n",
      " [1.125     ]\n",
      " [0.75      ]]\n"
     ]
    }
   ],
   "source": [
    "print(testx)"
   ]
  },
  {
   "cell_type": "code",
   "execution_count": 25,
   "metadata": {},
   "outputs": [],
   "source": [
    "testPredict = model.predict([[testx]])\n",
    "testPredict = scaler.inverse_transform(testPredict).ravel()"
   ]
  },
  {
   "cell_type": "code",
   "execution_count": 26,
   "metadata": {},
   "outputs": [
    {
     "data": {
      "text/plain": [
       "array([[[0.75     ],\n",
       "        [0.75     ],\n",
       "        [0.75     ],\n",
       "        ...,\n",
       "        [1.375    ],\n",
       "        [1.25     ],\n",
       "        [1.       ]],\n",
       "\n",
       "       [[0.75     ],\n",
       "        [0.75     ],\n",
       "        [0.75     ],\n",
       "        ...,\n",
       "        [1.25     ],\n",
       "        [1.       ],\n",
       "        [1.375    ]],\n",
       "\n",
       "       [[0.75     ],\n",
       "        [0.75     ],\n",
       "        [0.75     ],\n",
       "        ...,\n",
       "        [1.       ],\n",
       "        [1.375    ],\n",
       "        [0.5625   ]],\n",
       "\n",
       "       ...,\n",
       "\n",
       "       [[0.25     ],\n",
       "        [0.125    ],\n",
       "        [0.375    ],\n",
       "        ...,\n",
       "        [0.8249999],\n",
       "        [0.875    ],\n",
       "        [0.875    ]],\n",
       "\n",
       "       [[0.125    ],\n",
       "        [0.375    ],\n",
       "        [0.375    ],\n",
       "        ...,\n",
       "        [0.875    ],\n",
       "        [0.875    ],\n",
       "        [1.125    ]],\n",
       "\n",
       "       [[0.375    ],\n",
       "        [0.375    ],\n",
       "        [0.375    ],\n",
       "        ...,\n",
       "        [0.875    ],\n",
       "        [1.125    ],\n",
       "        [1.125    ]]], dtype=float32)"
      ]
     },
     "execution_count": 26,
     "metadata": {},
     "output_type": "execute_result"
    }
   ],
   "source": [
    "testX"
   ]
  },
  {
   "cell_type": "code",
   "execution_count": 29,
   "metadata": {},
   "outputs": [],
   "source": [
    "import numpy as np\n",
    "start=testX[75]\n",
    "testPredict=[[0.75]]\n",
    "for i in range(10):\n",
    "    start=np.append(start[1:], testPredict,axis = 0) \n",
    "    testPredict = model.predict([[start]])\n",
    "testPredict = scaler.inverse_transform(testPredict).ravel()\n",
    "s=testPredict"
   ]
  },
  {
   "cell_type": "code",
   "execution_count": 30,
   "metadata": {},
   "outputs": [
    {
     "name": "stdout",
     "output_type": "stream",
     "text": [
      "The next predicted price of the commodity is :  [1034.8545]\n"
     ]
    }
   ],
   "source": [
    "print(\"The next predicted price of the commodity is : \",s)"
   ]
  }
 ],
 "metadata": {
  "kernelspec": {
   "display_name": "Python 3",
   "language": "python",
   "name": "python3"
  },
  "language_info": {
   "codemirror_mode": {
    "name": "ipython",
    "version": 3
   },
   "file_extension": ".py",
   "mimetype": "text/x-python",
   "name": "python",
   "nbconvert_exporter": "python",
   "pygments_lexer": "ipython3",
   "version": "3.7.1"
  }
 },
 "nbformat": 4,
 "nbformat_minor": 2
}
